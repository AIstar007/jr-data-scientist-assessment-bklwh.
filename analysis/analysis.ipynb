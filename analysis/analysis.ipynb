(  patient_id   ht    wt  education  income  ageatmenarche  ageatmarriage  \
 0         P1  151  36.0          7    6000             14             26   
 1         P2  143  63.6         15   10000             13             27   
 2         P3  150  58.8         15   28000             16             27   
 3         P4  159  57.8         11    8000             13             20   
 4         P5  148  47.7         12   10000             14             20   
 
    ageatfirstpregnancy   district village occupation          diet  \
 0                   28     Raigad  Alibag     Farmer      Low Carb   
 1                   31     Raigad    Roha     Farmer    Vegetarian   
 2                   28  Ratnagiri  Dapoli    Teacher      Low Carb   
 3                   20  Ratnagiri  Dapoli  Housewife    Vegetarian   
 4                   21     Raigad  Alibag  Housewife  High Protein   
 
      condition  
 0     Diabetes  
 1  Infertility  
 2     Diabetes  
 3       Asthma  
 4  Infertility  ,
   patient_id dateofdelivery  ageatdelivery  weightatdelivery  \
 0         P1     2021-05-02             28              40.0   
 1         P2     2021-05-14             31              67.0   
 2         P3     2021-06-27             28              61.0   
 3         P4     2021-09-12             20              64.0   
 4         P5     2022-01-18             21              48.0   
 
    haemoglobinatdelivery  placentalweight termofdelivery typeofdelivery  
 0                   10.0              400      Full Term         Normal  
 1                   11.0              480      Full Term           LSCS  
 2                   12.8              520      Full Term           LSCS  
 3                   10.6              520      Full Term           LSCS  
 4                   12.8              450      Full Term           FTND  ,
   patient_id  Visit1_bpdis  Visit1_bpsys Visit1_date  Visit1_wt  Visit2_bpdis  \
 0         P1            60           100  2021-02-24       36.0            60   
 1         P2            70           110  2021-03-09       63.6            70   
 2         P3            80           110  2021-05-06       58.8            80   
 3         P4            70           100  2021-05-22       57.8            70   
 4         P5            70           110  2021-01-06       47.7            60   
 
    Visit2_bpsys Visit2_date  Visit2_wt  Visit3_bpdis  Visit3_bpsys  \
 0           100  2021-03-24       38.4            80           110   
 1           110  2021-03-30       64.9            70           120   
 2           120  2021-05-20       59.3            80           130   
 3           100  2021-06-19       58.8            70           100   
 4            90  2021-06-29       34.2            60           100   
 
   Visit3_date  Visit3_wt  Visit4_bpdis  Visit4_bpsys Visit4_date  Visit4_wt  
 0  2021-04-14       38.7            80           120  2021-04-28       39.9  
 1  2021-04-18       66.5            80           120  2021-05-12       67.2  
 2  2021-06-03       60.1            80           124  2021-06-13       60.1  
 3  2021-07-07       57.3            70            90  2021-08-27       63.1  
 4  2021-09-11       40.0            80           120  2021-11-25  
